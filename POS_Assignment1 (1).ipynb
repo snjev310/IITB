{
 "cells": [
  {
   "cell_type": "code",
   "execution_count": 6,
   "id": "55eb3638",
   "metadata": {},
   "outputs": [],
   "source": [
    "import numpy as np\n",
    "import pandas as pd\n",
    "from nltk.corpus import brown\n",
    "from tqdm.notebook import tqdm"
   ]
  },
  {
   "cell_type": "code",
   "execution_count": 7,
   "id": "719c9fe7",
   "metadata": {},
   "outputs": [
    {
     "name": "stderr",
     "output_type": "stream",
     "text": [
      "[nltk_data] Downloading package brown to /Users/snjev310/nltk_data...\n",
      "[nltk_data]   Package brown is already up-to-date!\n"
     ]
    },
    {
     "data": {
      "text/plain": [
       "True"
      ]
     },
     "execution_count": 7,
     "metadata": {},
     "output_type": "execute_result"
    }
   ],
   "source": [
    "nltk.download('brown')"
   ]
  },
  {
   "cell_type": "code",
   "execution_count": 8,
   "id": "79375705",
   "metadata": {},
   "outputs": [
    {
     "name": "stderr",
     "output_type": "stream",
     "text": [
      "[nltk_data] Downloading package universal_tagset to\n",
      "[nltk_data]     /Users/snjev310/nltk_data...\n",
      "[nltk_data]   Package universal_tagset is already up-to-date!\n"
     ]
    },
    {
     "data": {
      "text/plain": [
       "True"
      ]
     },
     "execution_count": 8,
     "metadata": {},
     "output_type": "execute_result"
    }
   ],
   "source": [
    "nltk.download('universal_tagset')"
   ]
  },
  {
   "cell_type": "code",
   "execution_count": 9,
   "id": "fa318e67",
   "metadata": {},
   "outputs": [],
   "source": [
    "data = brown.tagged_sents(tagset = \"universal\")"
   ]
  },
  {
   "cell_type": "code",
   "execution_count": 11,
   "id": "00c240d5",
   "metadata": {},
   "outputs": [
    {
     "data": {
      "text/plain": [
       "57340"
      ]
     },
     "execution_count": 11,
     "metadata": {},
     "output_type": "execute_result"
    }
   ],
   "source": [
    "len(data)"
   ]
  },
  {
   "cell_type": "code",
   "execution_count": 12,
   "id": "0ff55009",
   "metadata": {},
   "outputs": [
    {
     "data": {
      "text/plain": [
       "nltk.corpus.reader.util.ConcatenatedCorpusView"
      ]
     },
     "execution_count": 12,
     "metadata": {},
     "output_type": "execute_result"
    }
   ],
   "source": [
    "type(data)"
   ]
  },
  {
   "cell_type": "code",
   "execution_count": 13,
   "id": "d22a18f4",
   "metadata": {},
   "outputs": [],
   "source": [
    "data = list(data)"
   ]
  },
  {
   "cell_type": "code",
   "execution_count": 160,
   "id": "7e84a3fd",
   "metadata": {},
   "outputs": [],
   "source": [
    "#data"
   ]
  },
  {
   "cell_type": "code",
   "execution_count": 1,
   "id": "0dd4b98e",
   "metadata": {},
   "outputs": [
    {
     "name": "stderr",
     "output_type": "stream",
     "text": [
      "[nltk_data] Downloading package brown to /Users/snjev310/nltk_data...\n",
      "[nltk_data]   Package brown is already up-to-date!\n",
      "[nltk_data] Downloading package universal_tagset to\n",
      "[nltk_data]     /Users/snjev310/nltk_data...\n",
      "[nltk_data]   Package universal_tagset is already up-to-date!\n"
     ]
    }
   ],
   "source": [
    "import numpy as np\n",
    "import pandas as pd\n",
    "import nltk\n",
    "from nltk.corpus import brown\n",
    "\n",
    "nltk.download('brown')\n",
    "nltk.download('universal_tagset')\n",
    "\n",
    "data = brown.tagged_sents(tagset = \"universal\")\n",
    "data = list(data)"
   ]
  },
  {
   "cell_type": "code",
   "execution_count": 2,
   "id": "acaefd12",
   "metadata": {},
   "outputs": [
    {
     "data": {
      "text/plain": [
       "57340"
      ]
     },
     "execution_count": 2,
     "metadata": {},
     "output_type": "execute_result"
    }
   ],
   "source": [
    "len(data)"
   ]
  },
  {
   "cell_type": "code",
   "execution_count": 3,
   "id": "a9ce93ed",
   "metadata": {},
   "outputs": [],
   "source": [
    "#Add tags for start of sentence ^ for ^\n",
    "def preprocess(data):\n",
    "    for s in data:\n",
    "        s.insert(0,('^','*'))"
   ]
  },
  {
   "cell_type": "code",
   "execution_count": 4,
   "id": "bcf47bfd",
   "metadata": {},
   "outputs": [],
   "source": [
    "preprocess(data)"
   ]
  },
  {
   "cell_type": "code",
   "execution_count": 5,
   "id": "3421f267",
   "metadata": {},
   "outputs": [
    {
     "data": {
      "text/plain": [
       "[('^', '*'),\n",
       " ('``', '.'),\n",
       " ('Only', 'ADV'),\n",
       " ('a', 'DET'),\n",
       " ('relative', 'ADJ'),\n",
       " ('handful', 'NOUN'),\n",
       " ('of', 'ADP'),\n",
       " ('such', 'ADJ'),\n",
       " ('reports', 'NOUN'),\n",
       " ('was', 'VERB'),\n",
       " ('received', 'VERB'),\n",
       " (\"''\", '.'),\n",
       " (',', '.'),\n",
       " ('the', 'DET'),\n",
       " ('jury', 'NOUN'),\n",
       " ('said', 'VERB'),\n",
       " (',', '.'),\n",
       " ('``', '.'),\n",
       " ('considering', 'ADP'),\n",
       " ('the', 'DET'),\n",
       " ('widespread', 'ADJ'),\n",
       " ('interest', 'NOUN'),\n",
       " ('in', 'ADP'),\n",
       " ('the', 'DET'),\n",
       " ('election', 'NOUN'),\n",
       " (',', '.'),\n",
       " ('the', 'DET'),\n",
       " ('number', 'NOUN'),\n",
       " ('of', 'ADP'),\n",
       " ('voters', 'NOUN'),\n",
       " ('and', 'CONJ'),\n",
       " ('the', 'DET'),\n",
       " ('size', 'NOUN'),\n",
       " ('of', 'ADP'),\n",
       " ('this', 'DET'),\n",
       " ('city', 'NOUN'),\n",
       " (\"''\", '.'),\n",
       " ('.', '.')]"
      ]
     },
     "execution_count": 5,
     "metadata": {},
     "output_type": "execute_result"
    }
   ],
   "source": [
    "data = data[0:100]\n",
    "data[3]"
   ]
  },
  {
   "cell_type": "code",
   "execution_count": 8,
   "id": "e5567101",
   "metadata": {},
   "outputs": [],
   "source": [
    "import random\n",
    "def createFold(data,k):\n",
    "    n = len(data)\n",
    "    n_splits = n//k\n",
    "    random.shuffle(data)\n",
    "    folds = []\n",
    "    for i in range(0,n,n_splits):\n",
    "        j = min(i+n_splits,n)\n",
    "        folds.append(data[i:j])\n",
    "    return folds"
   ]
  },
  {
   "cell_type": "code",
   "execution_count": 9,
   "id": "a9f19ce9",
   "metadata": {},
   "outputs": [],
   "source": [
    "data_f = createFold(data,5)"
   ]
  },
  {
   "cell_type": "code",
   "execution_count": 10,
   "id": "20ac85ed",
   "metadata": {},
   "outputs": [
    {
     "data": {
      "text/plain": [
       "20"
      ]
     },
     "execution_count": 10,
     "metadata": {},
     "output_type": "execute_result"
    }
   ],
   "source": [
    "len(data_f[4])"
   ]
  },
  {
   "cell_type": "code",
   "execution_count": 11,
   "id": "89ef9fba",
   "metadata": {},
   "outputs": [],
   "source": [
    "def uniqueTags(data):\n",
    "    tags = set()\n",
    "    for s in data:\n",
    "        for word,tag in s:\n",
    "            tags.add(tag)\n",
    "    return list(sorted(tags))"
   ]
  },
  {
   "cell_type": "code",
   "execution_count": 12,
   "id": "4b5d6d2c",
   "metadata": {},
   "outputs": [],
   "source": [
    "tags = uniqueTags(data)\n",
    "n_tags = len(tags)"
   ]
  },
  {
   "cell_type": "code",
   "execution_count": 13,
   "id": "e86f5dda",
   "metadata": {},
   "outputs": [],
   "source": [
    "def vocab_(data):\n",
    "    vocab = set()\n",
    "    for s in data:\n",
    "        for word,tag in s:\n",
    "            vocab.add(word)\n",
    "    return list(sorted(vocab))"
   ]
  },
  {
   "cell_type": "code",
   "execution_count": 79,
   "id": "58dba43b",
   "metadata": {},
   "outputs": [],
   "source": [
    "vocab = vocab_(data)\n",
    "n_vocab = len(vocab)\n"
   ]
  },
  {
   "cell_type": "code",
   "execution_count": 81,
   "id": "8332e4f3",
   "metadata": {},
   "outputs": [
    {
     "data": {
      "text/plain": [
       "861"
      ]
     },
     "execution_count": 81,
     "metadata": {},
     "output_type": "execute_result"
    }
   ],
   "source": [
    "n_vocab"
   ]
  },
  {
   "cell_type": "code",
   "execution_count": 15,
   "id": "28cae69d",
   "metadata": {},
   "outputs": [],
   "source": [
    "#HMM"
   ]
  },
  {
   "cell_type": "code",
   "execution_count": 20,
   "id": "d814741f",
   "metadata": {},
   "outputs": [],
   "source": [
    "from collections import defaultdict\n",
    "def computeFrequency(data):\n",
    "    transition_freq = defaultdict(int)\n",
    "    emission_freq = defaultdict(int)\n",
    "    tag_frequency = defaultdict(int)\n",
    "    \n",
    "    for s in data:\n",
    "        previous_tag = '^'\n",
    "        for word,tag in s:\n",
    "            #print(word,tag)\n",
    "            transition_freq[(tag,previous_tag)] += 1\n",
    "            emission_freq[(word,tag)] += 1\n",
    "            tag_frequency[tag] += 1\n",
    "            previous_tag = tag\n",
    "    return transition_freq,emission_freq,tag_frequency"
   ]
  },
  {
   "cell_type": "code",
   "execution_count": 21,
   "id": "f0156a20",
   "metadata": {},
   "outputs": [],
   "source": [
    "tf,ef,tag_freq = computeFrequency(data)"
   ]
  },
  {
   "cell_type": "code",
   "execution_count": 159,
   "id": "1210766d",
   "metadata": {},
   "outputs": [],
   "source": [
    "#computeFrequency(data)"
   ]
  },
  {
   "cell_type": "code",
   "execution_count": 44,
   "id": "222f2446",
   "metadata": {},
   "outputs": [
    {
     "data": {
      "text/plain": [
       "defaultdict(int,\n",
       "            {'*': 100,\n",
       "             'DET': 279,\n",
       "             'NOUN': 721,\n",
       "             'VERB': 384,\n",
       "             'PRON': 48,\n",
       "             '.': 259,\n",
       "             'ADJ': 120,\n",
       "             'ADP': 256,\n",
       "             'ADV': 58,\n",
       "             'PRT': 57,\n",
       "             'NUM': 39,\n",
       "             'CONJ': 47})"
      ]
     },
     "execution_count": 44,
     "metadata": {},
     "output_type": "execute_result"
    }
   ],
   "source": [
    "tag_freq"
   ]
  },
  {
   "cell_type": "code",
   "execution_count": 155,
   "id": "b5843c97",
   "metadata": {},
   "outputs": [],
   "source": [
    "def buildMatrix(transition_freq,emission_freq,tag_freq,n_tags,n_vocab):\n",
    "    transition_matrix = np.zeros((n_tags,n_tags))\n",
    "    emission_matrix = np.zeros((n_tags,n_vocab))\n",
    "    \n",
    "    for i in range(n_tags):\n",
    "        #transition matrix\n",
    "        for j in range(n_tags):\n",
    "            t_i = tags[i]\n",
    "            t_j = tags[j]\n",
    "            transition_matrix[i,j] = transition_freq[(t_i,t_j)]/tag_freq[t_i]\n",
    "        #emission\n",
    "        for j in range(n_vocab):\n",
    "            t_i = tags[i]\n",
    "            w_j = vocab[j]\n",
    "            #print(w_j,t_i)\n",
    "            emission_matrix[i,j] = (emission_freq[(w_j,t_i)])/tag_freq[t_i]\n",
    "    #print(transition_matrix,emission_matrix)\n",
    "    return transition_matrix, emission_matrix"
   ]
  },
  {
   "cell_type": "code",
   "execution_count": 156,
   "id": "b6fc9e19",
   "metadata": {},
   "outputs": [],
   "source": [
    "tf,ef,tag_freq = computeFrequency(data)\n",
    "tm,em = buildMatrix(tf,ef,tag_freq,n_tags,n_vocab)"
   ]
  },
  {
   "cell_type": "code",
   "execution_count": 158,
   "id": "54b8968c",
   "metadata": {},
   "outputs": [
    {
     "data": {
      "text/plain": [
       "(12, 861)"
      ]
     },
     "execution_count": 158,
     "metadata": {},
     "output_type": "execute_result"
    }
   ],
   "source": [
    "em.shape"
   ]
  },
  {
   "cell_type": "code",
   "execution_count": 122,
   "id": "5d997e03",
   "metadata": {},
   "outputs": [
    {
     "data": {
      "text/plain": [
       "defaultdict(int,\n",
       "            {'*': 100,\n",
       "             'DET': 279,\n",
       "             'NOUN': 721,\n",
       "             'VERB': 384,\n",
       "             'PRON': 48,\n",
       "             '.': 259,\n",
       "             'ADJ': 120,\n",
       "             'ADP': 256,\n",
       "             'ADV': 58,\n",
       "             'PRT': 57,\n",
       "             'NUM': 39,\n",
       "             'CONJ': 47})"
      ]
     },
     "execution_count": 122,
     "metadata": {},
     "output_type": "execute_result"
    }
   ],
   "source": [
    "tag_freq"
   ]
  },
  {
   "cell_type": "code",
   "execution_count": 161,
   "id": "e5995f60",
   "metadata": {},
   "outputs": [],
   "source": [
    "# em= np.zeros((n_tags,n_vocab))\n",
    "# for i in range(n_tags):\n",
    "#     #transition matrix\n",
    "#     for j in range(n_vocab):\n",
    "#         t_i = tags[i]\n",
    "#         w_j = vocab[j]\n",
    "#         #print(t_i,w_j)\n",
    "#         #print(ef[(t_i,w_j)])\n",
    "#         em[i,j] = (ef[(w_j,t_i)])/tag_freq[t_i]\n",
    "#     print(em)\n"
   ]
  },
  {
   "cell_type": "code",
   "execution_count": null,
   "id": "28e5d214",
   "metadata": {},
   "outputs": [],
   "source": []
  },
  {
   "cell_type": "code",
   "execution_count": 87,
   "id": "2439e160",
   "metadata": {},
   "outputs": [
    {
     "data": {
      "text/plain": [
       "'1'"
      ]
     },
     "execution_count": 87,
     "metadata": {},
     "output_type": "execute_result"
    }
   ],
   "source": [
    "w_j"
   ]
  },
  {
   "cell_type": "code",
   "execution_count": null,
   "id": "56d4ae65",
   "metadata": {},
   "outputs": [],
   "source": []
  }
 ],
 "metadata": {
  "kernelspec": {
   "display_name": "Python 3",
   "language": "python",
   "name": "python3"
  },
  "language_info": {
   "codemirror_mode": {
    "name": "ipython",
    "version": 3
   },
   "file_extension": ".py",
   "mimetype": "text/x-python",
   "name": "python",
   "nbconvert_exporter": "python",
   "pygments_lexer": "ipython3",
   "version": "3.8.8"
  }
 },
 "nbformat": 4,
 "nbformat_minor": 5
}
